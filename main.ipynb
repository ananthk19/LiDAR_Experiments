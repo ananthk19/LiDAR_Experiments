{
 "cells": [
  {
   "cell_type": "markdown",
   "metadata": {},
   "source": [
    "Package Installation"
   ]
  },
  {
   "cell_type": "code",
   "execution_count": 11,
   "metadata": {},
   "outputs": [
    {
     "name": "stdout",
     "output_type": "stream",
     "text": [
      "Collecting laspy[laszip,lazrs]\n",
      "  Using cached laspy-2.5.4-py3-none-any.whl.metadata (3.5 kB)\n",
      "Requirement already satisfied: numpy in /Library/Frameworks/Python.framework/Versions/3.12/lib/python3.12/site-packages (from laspy[laszip,lazrs]) (1.26.4)\n",
      "Collecting laszip<0.3.0,>=0.2.1 (from laspy[laszip,lazrs])\n",
      "  Downloading laszip-0.2.3.tar.gz (239 kB)\n",
      "  Installing build dependencies ... \u001b[?25ldone\n",
      "\u001b[?25h  Getting requirements to build wheel ... \u001b[?25ldone\n",
      "\u001b[?25h  Installing backend dependencies ... \u001b[?25ldone\n",
      "\u001b[?25h  Preparing metadata (pyproject.toml) ... \u001b[?25ldone\n",
      "\u001b[?25hCollecting lazrs<0.7.0,>=0.6.0 (from laspy[laszip,lazrs])\n",
      "  Downloading lazrs-0.6.2-cp312-cp312-macosx_11_0_arm64.whl.metadata (601 bytes)\n",
      "Downloading lazrs-0.6.2-cp312-cp312-macosx_11_0_arm64.whl (545 kB)\n",
      "\u001b[2K   \u001b[90m━━━━━━━━━━━━━━━━━━━━━━━━━━━━━━━━━━━━━━━━\u001b[0m \u001b[32m545.9/545.9 kB\u001b[0m \u001b[31m1.9 MB/s\u001b[0m eta \u001b[36m0:00:00\u001b[0m\n",
      "\u001b[?25hUsing cached laspy-2.5.4-py3-none-any.whl (84 kB)\n",
      "Building wheels for collected packages: laszip\n",
      "  Building wheel for laszip (pyproject.toml) ... \u001b[?25ldone\n",
      "\u001b[?25h  Created wheel for laszip: filename=laszip-0.2.3-cp312-cp312-macosx_14_0_arm64.whl size=397705 sha256=91c394da7ae843c3621c097fd07d143ecf7ac15b18987c1c1927880aecdd8f53\n",
      "  Stored in directory: /Users/ananth/Library/Caches/pip/wheels/ab/4e/37/6a39a826c242785ec4f7c5cb43da40b331cbcb80ff9fdfc9a8\n",
      "Successfully built laszip\n",
      "Installing collected packages: lazrs, laszip, laspy\n",
      "Successfully installed laspy-2.5.4 laszip-0.2.3 lazrs-0.6.2\n",
      "Note: you may need to restart the kernel to use updated packages.\n"
     ]
    }
   ],
   "source": [
    "# Install Laspy with lazrs & laszip support\n",
    "pip install \"laspy[lazrs,laszip]\""
   ]
  },
  {
   "cell_type": "markdown",
   "metadata": {},
   "source": [
    "Import Libraries"
   ]
  },
  {
   "cell_type": "code",
   "execution_count": 12,
   "metadata": {},
   "outputs": [],
   "source": [
    "import laspy\n",
    "import numpy as np"
   ]
  },
  {
   "cell_type": "markdown",
   "metadata": {},
   "source": [
    "Data Exploration & Analysis"
   ]
  },
  {
   "cell_type": "code",
   "execution_count": 18,
   "metadata": {},
   "outputs": [
    {
     "name": "stdout",
     "output_type": "stream",
     "text": [
      "Attributes: ['X', 'Y', 'Z', 'intensity', 'return_number', 'number_of_returns', 'scan_direction_flag', 'edge_of_flight_line', 'classification', 'synthetic', 'key_point', 'withheld', 'scan_angle_rank', 'user_data', 'point_source_id', 'gps_time']\n"
     ]
    }
   ],
   "source": [
    "# Load the lidar file\n",
    "file_path = \"./Roper_River_Lidar_Classified_Data_Laz/329000_8367000.laz\"\n",
    "las = laspy.read(file_path)\n",
    "\n",
    "# Access all attribute names\n",
    "attributes = list(las.point_format.dimension_names)\n",
    "print(\"Attributes:\", attributes)\n"
   ]
  }
 ],
 "metadata": {
  "kernelspec": {
   "display_name": "Python 3",
   "language": "python",
   "name": "python3"
  },
  "language_info": {
   "codemirror_mode": {
    "name": "ipython",
    "version": 3
   },
   "file_extension": ".py",
   "mimetype": "text/x-python",
   "name": "python",
   "nbconvert_exporter": "python",
   "pygments_lexer": "ipython3",
   "version": "3.12.0"
  }
 },
 "nbformat": 4,
 "nbformat_minor": 2
}
